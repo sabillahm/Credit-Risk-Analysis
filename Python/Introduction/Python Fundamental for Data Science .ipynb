{
 "cells": [
  {
   "cell_type": "markdown",
   "metadata": {},
   "source": [
    "## Code Hello World"
   ]
  },
  {
   "cell_type": "code",
   "execution_count": 6,
   "metadata": {},
   "outputs": [
    {
     "name": "stdout",
     "output_type": "stream",
     "text": [
      "25\n",
      "Academy DQLab\n"
     ]
    }
   ],
   "source": [
    "print(10*2+5)\n",
    "print(\"Academy DQLab\")"
   ]
  },
  {
   "cell_type": "markdown",
   "metadata": {},
   "source": [
    "## Melakukan Comment Pada Python"
   ]
  },
  {
   "cell_type": "code",
   "execution_count": 7,
   "metadata": {},
   "outputs": [
    {
     "name": "stdout",
     "output_type": "stream",
     "text": [
      "25\n",
      "Academy DQLab\n"
     ]
    }
   ],
   "source": [
    "print(10*2+5) #fungsi matematika\n",
    "print(\"Academy DQLab\") #fungsi mencetak kalimat"
   ]
  },
  {
   "cell_type": "markdown",
   "metadata": {},
   "source": [
    "## Printing Data Type"
   ]
  },
  {
   "cell_type": "code",
   "execution_count": 8,
   "metadata": {},
   "outputs": [
    {
     "name": "stdout",
     "output_type": "stream",
     "text": [
      "Belajar Python DQLAB\n",
      "10\n",
      "3.14\n",
      "[1, 2, 3, 4]\n",
      "('satu', 'dua', 'tiga')\n",
      "{'nama': 'Ali', 'umur': 20}\n",
      "<class 'str'>\n",
      "<class 'int'>\n",
      "<class 'float'>\n",
      "<class 'list'>\n",
      "<class 'tuple'>\n",
      "<class 'dict'>\n"
     ]
    }
   ],
   "source": [
    "var_string=\"Belajar Python DQLAB\"\n",
    "var_int=10\n",
    "var_float=3.14\n",
    "var_list=[1,2,3,4]\n",
    "var_tuple=(\"satu\",\"dua\",\"tiga\")\n",
    "var_dict={\"nama\":\"Ali\", 'umur':20}\n",
    "\n",
    "\n",
    "print(var_string)\n",
    "print(var_int)\n",
    "print(var_float)\n",
    "print(var_list)\n",
    "print(var_tuple)\n",
    "print(var_dict)\n",
    "\n",
    "print(type(var_string))\n",
    "print(type(var_int))\n",
    "print(type(var_float))\n",
    "print(type(var_list))\n",
    "print(type(var_tuple))\n",
    "print(type(var_dict))"
   ]
  },
  {
   "cell_type": "markdown",
   "metadata": {},
   "source": [
    "## IF Statement"
   ]
  },
  {
   "cell_type": "code",
   "execution_count": 4,
   "metadata": {},
   "outputs": [],
   "source": [
    "#Penggunaan IF sebenarnya adalah sebuah statement untuk menentukan keputusan mana yang akan diambil \n",
    "#berdasarkan suatu kondisi yang ditentukan oleh pembuat program.\n",
    "\n",
    "i = 7 #inisialisasi variabel i yang memiliki nilai 10\n",
    "if(i==10): #pengecekan nilai i apakah sama dengan 10\n",
    "    print(\"ini adalah angka 10\") #jika TRUE maka akan mencetak kalimat ini"
   ]
  },
  {
   "cell_type": "markdown",
   "metadata": {},
   "source": [
    "## IF … ELSE …"
   ]
  },
  {
   "cell_type": "code",
   "execution_count": 9,
   "metadata": {},
   "outputs": [
    {
     "name": "stdout",
     "output_type": "stream",
     "text": [
      "bukan angka 10\n"
     ]
    }
   ],
   "source": [
    "i=5 #inisialisasi variabel i yang memiliki nilai 10\n",
    "if(i==10): #pengecekan nilai i apakah sama dengan 10\n",
    "    print(\"ini adalah angka 10\") #jika TRUE maka akan mencetak kalimat ini\n",
    "else:\n",
    "    print(\"bukan angka 10\") #jika FALSE akan mencetak kalimat ini"
   ]
  },
  {
   "cell_type": "markdown",
   "metadata": {},
   "source": [
    "## IF … ELIF … ELSE …."
   ]
  },
  {
   "cell_type": "code",
   "execution_count": 11,
   "metadata": {},
   "outputs": [
    {
     "name": "stdout",
     "output_type": "stream",
     "text": [
      "lebih kecil dari 5\n"
     ]
    }
   ],
   "source": [
    "i=3\n",
    "\n",
    "if(i==5):\n",
    "    print(\"ini adalah angka 5\")\n",
    "elif(i>5):\n",
    "    print(\"lebih besar dari 5\")\n",
    "else:\n",
    "    print(\"lebih kecil dari 5\")"
   ]
  },
  {
   "cell_type": "markdown",
   "metadata": {},
   "source": [
    "## NESTED IF"
   ]
  },
  {
   "cell_type": "code",
   "execution_count": 14,
   "metadata": {},
   "outputs": [
    {
     "name": "stdout",
     "output_type": "stream",
     "text": [
      "nilai i kurang dari 7\n",
      "nilai i kurang dari 7 dan kurang dari 3\n"
     ]
    }
   ],
   "source": [
    "i=2\n",
    "\n",
    "if(i<7):\n",
    "    print(\"nilai i kurang dari 7\")\n",
    "    if(i<3):\n",
    "        print(\"nilai i kurang dari 7 dan kurang dari 3\")\n",
    "    else:\n",
    "        print(\"nilai i kurang dari 7 tapi lebih dari 3\")"
   ]
  },
  {
   "cell_type": "markdown",
   "metadata": {},
   "source": [
    "## Praktek Operasi Matematika"
   ]
  },
  {
   "cell_type": "code",
   "execution_count": 15,
   "metadata": {},
   "outputs": [
    {
     "name": "stdout",
     "output_type": "stream",
     "text": [
      "Hasil penjumlahan dan b adalah 15\n",
      "Selisih a dan b adalah : 5\n",
      "Hasil perkalian a dan b adalah : 50\n",
      "Hasil pembagian a dan b adalah : 2.0\n"
     ]
    }
   ],
   "source": [
    "a=10\n",
    "b=5\n",
    "selisih=a-b\n",
    "jumlah=a+b\n",
    "kali=a*b\n",
    "bagi=a/b\n",
    "print(\"Hasil penjumlahan dan b adalah\", jumlah)\n",
    "print(\"Selisih a dan b adalah :\", selisih)\n",
    "print(\"Hasil perkalian a dan b adalah :\", kali)\n",
    "print(\"Hasil pembagian a dan b adalah :\", bagi)\n"
   ]
  },
  {
   "cell_type": "markdown",
   "metadata": {},
   "source": [
    "## Operasi Modulus"
   ]
  },
  {
   "cell_type": "code",
   "execution_count": 16,
   "metadata": {},
   "outputs": [
    {
     "name": "stdout",
     "output_type": "stream",
     "text": [
      "Hasil modulus 1\n"
     ]
    }
   ],
   "source": [
    "c=10\n",
    "d=3\n",
    "\n",
    "modulus=c%d\n",
    "print(\"Hasil modulus\", modulus)"
   ]
  },
  {
   "cell_type": "markdown",
   "metadata": {},
   "source": [
    "## Tugas Mid Praktek"
   ]
  },
  {
   "cell_type": "code",
   "execution_count": 17,
   "metadata": {},
   "outputs": [
    {
     "name": "stdout",
     "output_type": "stream",
     "text": [
      "angka termasuk bilangan ganjil\n"
     ]
    }
   ],
   "source": [
    "angka=5\n",
    "\n",
    "if(angka%2==0):\n",
    "    print(\"angka termasuk bilangan genap\")\n",
    "else:\n",
    "    print(\"angka termasuk bilangan ganjil\")"
   ]
  },
  {
   "cell_type": "markdown",
   "metadata": {},
   "source": [
    "## While"
   ]
  },
  {
   "cell_type": "code",
   "execution_count": 19,
   "metadata": {},
   "outputs": [
    {
     "name": "stdout",
     "output_type": "stream",
     "text": [
      "Ini adalah perulangan ke - 0\n",
      "Ini adalah perulangan ke - 1\n",
      "Ini adalah perulangan ke - 2\n",
      "Ini adalah perulangan ke - 3\n",
      "Ini adalah perulangan ke - 4\n",
      "Ini adalah perulangan ke - 5\n"
     ]
    }
   ],
   "source": [
    "j=0 #nilai awal j=0\n",
    "\n",
    "while j<6: #ketika j kurang 6 lakukan perulangan, jika tidak stop perulangan\n",
    "    print(\"Ini adalah perulangan ke -\", j) #lakukan perintah ini kerika perulangan\n",
    "    j=j+1 #setiap kali diakhir perulangan update nilai dengan ditambah 1"
   ]
  },
  {
   "cell_type": "markdown",
   "metadata": {},
   "source": [
    "## for (1)"
   ]
  },
  {
   "cell_type": "code",
   "execution_count": 20,
   "metadata": {},
   "outputs": [
    {
     "name": "stdout",
     "output_type": "stream",
     "text": [
      "Ini adalah perulangan ke - 1\n",
      "Ini adalah perulangan ke - 2\n",
      "Ini adalah perulangan ke - 3\n",
      "Ini adalah perulangan ke - 4\n",
      "Ini adalah perulangan ke - 5\n"
     ]
    }
   ],
   "source": [
    "for i in range (1,6): #perulangam for sebagai inisialisasi dari angka 1 hingga angka yang lebih kecil daripada 6.\n",
    "    print(\"Ini adalah perulangan ke -\", i) #perintah jika looping akan tetap berjalan "
   ]
  },
  {
   "cell_type": "markdown",
   "metadata": {},
   "source": [
    "## for (2) with access element"
   ]
  },
  {
   "cell_type": "code",
   "execution_count": 21,
   "metadata": {},
   "outputs": [
    {
     "name": "stdout",
     "output_type": "stream",
     "text": [
      "Angka ganjil 1\n",
      "Angka genap 2\n",
      "Angka ganjil 3\n",
      "Angka genap 4\n",
      "Angka ganjil 5\n",
      "Angka genap 6\n",
      "Angka ganjil 7\n",
      "Angka genap 8\n",
      "Angka ganjil 9\n",
      "Angka genap 10\n"
     ]
    }
   ],
   "source": [
    "for i in range (1,11):\n",
    "    if(i%2==0):\n",
    "        print(\"Angka genap\",i)\n",
    "    else:\n",
    "         print(\"Angka ganjil\",i)"
   ]
  },
  {
   "cell_type": "markdown",
   "metadata": {},
   "source": [
    "## Membuat fungsi sendiri"
   ]
  },
  {
   "cell_type": "code",
   "execution_count": 22,
   "metadata": {},
   "outputs": [
    {
     "name": "stdout",
     "output_type": "stream",
     "text": [
      "Hello, Selamat Pagi\n"
     ]
    }
   ],
   "source": [
    "#membuat fungsi\n",
    "def salam():\n",
    "    print(\"Hello, Selamat Pagi\")\n",
    "\n",
    "#pemanggilan fungsi\n",
    "salam()"
   ]
  },
  {
   "cell_type": "markdown",
   "metadata": {},
   "source": [
    "## Parameter pada fungsi"
   ]
  },
  {
   "cell_type": "code",
   "execution_count": 23,
   "metadata": {},
   "outputs": [
    {
     "name": "stdout",
     "output_type": "stream",
     "text": [
      "Luas segitiga: 12.000000\n"
     ]
    }
   ],
   "source": [
    "def luas_segitiga(alas,tinggi): #alas dan tinggi merupakan parameter yang masuk\n",
    "    luas=(alas*tinggi)/2\n",
    "    print(\"Luas segitiga: %f\" %luas);\n",
    "\n",
    "#pemanggilan fungsi\n",
    "## 4 dan 6 merupakan parameter yang diinputkan kedalam fungsi  luas segitiga\n",
    "luas_segitiga(4,6)"
   ]
  },
  {
   "cell_type": "markdown",
   "metadata": {},
   "source": [
    "## Fungsi dengan Return Value"
   ]
  },
  {
   "cell_type": "code",
   "execution_count": 24,
   "metadata": {},
   "outputs": [
    {
     "name": "stdout",
     "output_type": "stream",
     "text": [
      "Luas persegi: 36\n"
     ]
    }
   ],
   "source": [
    "#Fungsi yang tidak mengembalikan nilai biasanya disebut dengan prosedur. \n",
    "#Namun, kadang kita butuh hasil proses dari fungsi untuk digunakan pada proses berikutnya. \n",
    "#Maka fungsi harus mengembalikan nilai dari hasil pemrosesannya. \n",
    "#Cara mengembalikan nilai adalah menggunakan kata kunci return lalu diikuti dengan nilai atau variabel yang akan dikembalikan.\n",
    "\n",
    "def luas_persegi(sisi):\n",
    "    luas = sisi * sisi\n",
    "    return luas\n",
    "#pemanggilan fungsi\n",
    "print(\"Luas persegi: %d\" %luas_persegi(6))"
   ]
  },
  {
   "cell_type": "markdown",
   "metadata": {},
   "source": [
    "## Import Package dan Menggunakan modul"
   ]
  },
  {
   "cell_type": "code",
   "execution_count": 25,
   "metadata": {},
   "outputs": [
    {
     "name": "stdout",
     "output_type": "stream",
     "text": [
      "Nilai pi adalah: 3.141592653589793\n"
     ]
    }
   ],
   "source": [
    "import math\n",
    "print(\"Nilai pi adalah:\", math.pi)\n",
    "# math.pi merupakan sintak untuk memanggil fungsi"
   ]
  },
  {
   "cell_type": "markdown",
   "metadata": {},
   "source": [
    "## Import dengan Module Rename atau Alias"
   ]
  },
  {
   "cell_type": "code",
   "execution_count": 26,
   "metadata": {},
   "outputs": [
    {
     "name": "stdout",
     "output_type": "stream",
     "text": [
      "Nilai pi adalah: 3.141592653589793\n"
     ]
    }
   ],
   "source": [
    "import math as m #menggunakan m sebagai module rename atau alias\n",
    "print(\"Nilai pi adalah:\", m.pi)# m.pi merupakan sintak untuk memanggil fungsi"
   ]
  },
  {
   "cell_type": "markdown",
   "metadata": {},
   "source": [
    "## Import Sebagian Fungsi"
   ]
  },
  {
   "cell_type": "code",
   "execution_count": 27,
   "metadata": {},
   "outputs": [
    {
     "name": "stdout",
     "output_type": "stream",
     "text": [
      "Nilai pi adalah 3.141592653589793\n"
     ]
    }
   ],
   "source": [
    "#Pada suatu module tidak bisa dipungkiri terdiri dari puluhan bahkan ribuan fungsi. \n",
    "#Namun, yang kita butuhkan hanya 1 atau 2 fungsi saja. \n",
    "#Untuk meminimalisir ketidakefisienan suatu program dalam load suatu module bisa dilakukan import module \n",
    "#namun hanya beberapa fungsi saja yang kita import kedalam code. Format (from module_name import function_name)\n",
    "\n",
    "from math import pi\n",
    "\n",
    "print(\"Nilai pi adalah\", pi)"
   ]
  },
  {
   "cell_type": "markdown",
   "metadata": {},
   "source": [
    "## Import Semua isi Moduls"
   ]
  },
  {
   "cell_type": "code",
   "execution_count": 28,
   "metadata": {},
   "outputs": [
    {
     "name": "stdout",
     "output_type": "stream",
     "text": [
      "Nilai e adalah: 2.718281828459045\n"
     ]
    }
   ],
   "source": [
    "#Namun, jika memang yang dibutuhkan banyak, semisal lebih dari 10 atau bahkan ratusan fungsi, \n",
    "#bisa dilakukan import semuanya dengan menggunakan format from module_name import *\n",
    "\n",
    "from math import *\n",
    "\n",
    "print(\"Nilai e adalah:\", e)"
   ]
  },
  {
   "cell_type": "markdown",
   "metadata": {},
   "source": [
    "## Membaca Teks File (CSV)"
   ]
  },
  {
   "cell_type": "code",
   "execution_count": null,
   "metadata": {},
   "outputs": [],
   "source": [
    "import csv\n",
    "\n",
    "#tentukan lokasi file, nama file, dan inisialisasi csv\n",
    "f = open('penduduk_gender_head.csv','r')\n",
    "reader = csv.reader(f)\n",
    "\n",
    "#membaca baris per baris\n",
    "for row in reader:\n",
    "\tprint (row)\n",
    "\n",
    "#menutup file csv\n",
    "f.close()"
   ]
  },
  {
   "cell_type": "markdown",
   "metadata": {},
   "source": [
    "## Membaca file CSV dengan menggunakan PANDAS"
   ]
  },
  {
   "cell_type": "code",
   "execution_count": 30,
   "metadata": {},
   "outputs": [
    {
     "name": "stdout",
     "output_type": "stream",
     "text": [
      "    TAHUN         NAMA PROVINSI NAMA KABUPATEN/KOTA NAMA KECAMATAN  \\\n",
      "0    2013  PROVINSI DKI JAKARTA       JAKARTA PUSAT         GAMBIR   \n",
      "1    2013  PROVINSI DKI JAKARTA       JAKARTA PUSAT         GAMBIR   \n",
      "2    2013  PROVINSI DKI JAKARTA       JAKARTA PUSAT         GAMBIR   \n",
      "3    2013  PROVINSI DKI JAKARTA       JAKARTA PUSAT         GAMBIR   \n",
      "4    2013  PROVINSI DKI JAKARTA       JAKARTA PUSAT         GAMBIR   \n",
      "5    2013  PROVINSI DKI JAKARTA       JAKARTA PUSAT         GAMBIR   \n",
      "6    2013  PROVINSI DKI JAKARTA       JAKARTA PUSAT    SAWAH BESAR   \n",
      "7    2013  PROVINSI DKI JAKARTA       JAKARTA PUSAT    SAWAH BESAR   \n",
      "8    2013  PROVINSI DKI JAKARTA       JAKARTA PUSAT    SAWAH BESAR   \n",
      "9    2013  PROVINSI DKI JAKARTA       JAKARTA PUSAT    SAWAH BESAR   \n",
      "10   2013  PROVINSI DKI JAKARTA       JAKARTA PUSAT    SAWAH BESAR   \n",
      "11   2013  PROVINSI DKI JAKARTA       JAKARTA PUSAT      KEMAYORAN   \n",
      "12   2013  PROVINSI DKI JAKARTA       JAKARTA PUSAT      KEMAYORAN   \n",
      "13   2013  PROVINSI DKI JAKARTA       JAKARTA PUSAT      KEMAYORAN   \n",
      "14   2013  PROVINSI DKI JAKARTA       JAKARTA PUSAT      KEMAYORAN   \n",
      "15   2013  PROVINSI DKI JAKARTA       JAKARTA PUSAT      KEMAYORAN   \n",
      "16   2013  PROVINSI DKI JAKARTA       JAKARTA PUSAT      KEMAYORAN   \n",
      "17   2013  PROVINSI DKI JAKARTA       JAKARTA PUSAT      KEMAYORAN   \n",
      "18   2013  PROVINSI DKI JAKARTA       JAKARTA PUSAT      KEMAYORAN   \n",
      "19   2013  PROVINSI DKI JAKARTA       JAKARTA PUSAT          SENEN   \n",
      "20   2013  PROVINSI DKI JAKARTA       JAKARTA PUSAT          SENEN   \n",
      "21   2013  PROVINSI DKI JAKARTA       JAKARTA PUSAT          SENEN   \n",
      "22   2013  PROVINSI DKI JAKARTA       JAKARTA PUSAT          SENEN   \n",
      "23   2013  PROVINSI DKI JAKARTA       JAKARTA PUSAT          SENEN   \n",
      "24   2013  PROVINSI DKI JAKARTA       JAKARTA PUSAT          SENEN   \n",
      "25   2013  PROVINSI DKI JAKARTA       JAKARTA PUSAT  CEMPAKA PUTIH   \n",
      "26   2013  PROVINSI DKI JAKARTA       JAKARTA PUSAT  CEMPAKA PUTIH   \n",
      "27   2013  PROVINSI DKI JAKARTA       JAKARTA PUSAT  CEMPAKA PUTIH   \n",
      "28   2013  PROVINSI DKI JAKARTA       JAKARTA PUSAT        MENTENG   \n",
      "29   2013  PROVINSI DKI JAKARTA       JAKARTA PUSAT        MENTENG   \n",
      "30   2013  PROVINSI DKI JAKARTA       JAKARTA PUSAT        MENTENG   \n",
      "31   2013  PROVINSI DKI JAKARTA       JAKARTA PUSAT        MENTENG   \n",
      "32   2013  PROVINSI DKI JAKARTA       JAKARTA PUSAT        MENTENG   \n",
      "33   2013  PROVINSI DKI JAKARTA       JAKARTA PUSAT    TANAH ABANG   \n",
      "34   2013  PROVINSI DKI JAKARTA       JAKARTA PUSAT    TANAH ABANG   \n",
      "35   2013  PROVINSI DKI JAKARTA       JAKARTA PUSAT    TANAH ABANG   \n",
      "36   2013  PROVINSI DKI JAKARTA       JAKARTA PUSAT    TANAH ABANG   \n",
      "37   2013  PROVINSI DKI JAKARTA       JAKARTA PUSAT    TANAH ABANG   \n",
      "38   2013  PROVINSI DKI JAKARTA       JAKARTA PUSAT    TANAH ABANG   \n",
      "39   2013  PROVINSI DKI JAKARTA       JAKARTA PUSAT    TANAH ABANG   \n",
      "40   2013  PROVINSI DKI JAKARTA       JAKARTA PUSAT     JOHAR BARU   \n",
      "41   2013  PROVINSI DKI JAKARTA       JAKARTA PUSAT     JOHAR BARU   \n",
      "42   2013  PROVINSI DKI JAKARTA       JAKARTA PUSAT     JOHAR BARU   \n",
      "43   2013  PROVINSI DKI JAKARTA       JAKARTA PUSAT     JOHAR BARU   \n",
      "\n",
      "           NAMA KELURAHAN  LAKI-LAKI WNI  PEREMPUAN WNI  LAKI-LAKI WNA  \\\n",
      "0                  GAMBIR           1790           1690            1.0   \n",
      "1                  CIDENG           9159           9206            5.0   \n",
      "2            PETOJO UTARA          10811          10436           10.0   \n",
      "3          PETOJO SELATAN           8455           8023            5.0   \n",
      "4            KEBON KELAPA           6300           6078            6.0   \n",
      "5               DURI PULO          13056          12588            2.0   \n",
      "6              PASAR BARU           7557           7552           34.0   \n",
      "7            KARANG ANYAR          16327          15859            4.0   \n",
      "8                 KARTINI          13610          13808            3.0   \n",
      "9     GUNUNG SAHARI UTARA           9734           9889           15.0   \n",
      "10     MANGGA DUA SELATAN          17269          16458           42.0   \n",
      "11              KEMAYORAN          12365          11932            6.0   \n",
      "12           KEBON KOSONG          15933          15665           33.0   \n",
      "13          HARAPAN MULIA          13523          13049            2.0   \n",
      "14                SERDANG          17284          17020            1.0   \n",
      "15  GUNUNG SAHARI SELATAN          11730          11487           13.0   \n",
      "16           CEMPAKA BARU          19103          18601            NaN   \n",
      "17             SUMUR BATU          13441          13288           20.0   \n",
      "18           UTAN PANJANG          17125          16351            4.0   \n",
      "19                  SENEN           4236           3975           10.0   \n",
      "20                 KENARI           5445           5252            2.0   \n",
      "21                PASEBAN          13787          13477            NaN   \n",
      "22                 KRAMAT          17482          16331            2.0   \n",
      "23                KWITANG           9176           9148            1.0   \n",
      "24                 BUNGUR          11200          10849            4.0   \n",
      "25    CEMPAKA PUTIH TIMUR          13630          13686           24.0   \n",
      "26    CEMPAKA PUTIH BARAT          20029          19681           12.0   \n",
      "27               RAWASARI          12462          12465            1.0   \n",
      "28                MENTENG          14576          14610            7.0   \n",
      "29             PEGANGSAAN          13392          13214            2.0   \n",
      "30                 CIKINI           4825           4772            5.0   \n",
      "31             GONDANGDIA           2196           2443           11.0   \n",
      "32            KEBON SIRIH           7976           7439            2.0   \n",
      "33                 GELORA           1865           1883            6.0   \n",
      "34        BENDUNGAN HILIR          12713          12582           11.0   \n",
      "35          KARET TENGSIN          11002          10271           10.0   \n",
      "36             PETAMBURAN          20112          18794           17.0   \n",
      "37           KEBON MELATI          19826          18672            8.0   \n",
      "38           KEBON KACANG          12873          12357            3.0   \n",
      "39           KAMPUNG BALI           7348           7205            3.0   \n",
      "40             JOHAR BARU          21016          20953            2.0   \n",
      "41           KAMPUNG RAWA          13337          12499            1.0   \n",
      "42                  GALUR          11077          10259            NaN   \n",
      "43           TANAH TINGGI          22680          21450            NaN   \n",
      "\n",
      "    PEREMPUAN WNA  Unnamed: 9  Unnamed: 10  Unnamed: 11  Unnamed: 12  \\\n",
      "0             2.0         NaN          NaN          NaN          NaN   \n",
      "1             6.0         NaN          NaN          NaN          NaN   \n",
      "2             8.0         NaN          NaN          NaN          NaN   \n",
      "3             7.0         NaN          NaN          NaN          NaN   \n",
      "4            10.0         NaN          NaN          NaN          NaN   \n",
      "5             6.0         NaN          NaN          NaN          NaN   \n",
      "6            55.0         NaN          NaN          NaN          NaN   \n",
      "7             2.0         NaN          NaN          NaN          NaN   \n",
      "8             3.0         NaN          NaN          NaN          NaN   \n",
      "9            30.0         NaN          NaN          NaN          NaN   \n",
      "10           33.0         NaN          NaN          NaN          NaN   \n",
      "11            8.0         NaN          NaN          NaN          NaN   \n",
      "12           25.0         NaN          NaN          NaN          NaN   \n",
      "13            3.0         NaN          NaN          NaN          NaN   \n",
      "14            1.0         NaN          NaN          NaN          NaN   \n",
      "15           15.0         NaN          NaN          NaN          NaN   \n",
      "16            3.0         NaN          NaN          NaN          NaN   \n",
      "17           13.0         NaN          NaN          NaN          NaN   \n",
      "18            3.0         NaN          NaN          NaN          NaN   \n",
      "19            7.0         NaN          NaN          NaN          NaN   \n",
      "20            NaN         NaN          NaN          NaN          NaN   \n",
      "21            NaN         NaN          NaN          NaN          NaN   \n",
      "22            2.0         NaN          NaN          NaN          NaN   \n",
      "23            1.0         NaN          NaN          NaN          NaN   \n",
      "24            3.0         NaN          NaN          NaN          NaN   \n",
      "25           24.0         NaN          NaN          NaN          NaN   \n",
      "26            2.0         NaN          NaN          NaN          NaN   \n",
      "27            3.0         NaN          NaN          NaN          NaN   \n",
      "28           10.0         NaN          NaN          NaN          NaN   \n",
      "29            NaN         NaN          NaN          NaN          NaN   \n",
      "30            1.0         NaN          NaN          NaN          NaN   \n",
      "31           13.0         NaN          NaN          NaN          NaN   \n",
      "32            2.0         NaN          NaN          NaN          NaN   \n",
      "33            2.0         NaN          NaN          NaN          NaN   \n",
      "34            2.0         NaN          NaN          NaN          NaN   \n",
      "35            3.0         NaN          NaN          NaN          NaN   \n",
      "36           13.0         NaN          NaN          NaN          NaN   \n",
      "37            4.0         NaN          NaN          NaN          NaN   \n",
      "38            4.0         NaN          NaN          NaN          NaN   \n",
      "39            1.0         NaN          NaN          NaN          NaN   \n",
      "40            NaN         NaN          NaN          NaN          NaN   \n",
      "41            NaN         NaN          NaN          NaN          NaN   \n",
      "42            NaN         NaN          NaN          NaN          NaN   \n",
      "43            NaN         NaN          NaN          NaN          NaN   \n",
      "\n",
      "    Unnamed: 13  Unnamed: 14  Unnamed: 15  Unnamed: 16  Unnamed: 17  \n",
      "0           NaN          NaN          NaN          NaN          NaN  \n",
      "1           NaN          NaN          NaN          NaN          NaN  \n",
      "2           NaN          NaN          NaN          NaN          NaN  \n",
      "3           NaN          NaN          NaN          NaN          NaN  \n",
      "4           NaN          NaN          NaN          NaN          NaN  \n",
      "5           NaN          NaN          NaN          NaN          NaN  \n",
      "6           NaN          NaN          NaN          NaN          NaN  \n",
      "7           NaN          NaN          NaN          NaN          NaN  \n",
      "8           NaN          NaN          NaN          NaN          NaN  \n",
      "9           NaN          NaN          NaN          NaN          NaN  \n",
      "10          NaN          NaN          NaN          NaN          NaN  \n",
      "11          NaN          NaN          NaN          NaN          NaN  \n",
      "12          NaN          NaN          NaN          NaN          NaN  \n",
      "13          NaN          NaN          NaN          NaN          NaN  \n",
      "14          NaN          NaN          NaN          NaN          NaN  \n",
      "15          NaN          NaN          NaN          NaN          NaN  \n",
      "16          NaN          NaN          NaN          NaN          NaN  \n",
      "17          NaN          NaN          NaN          NaN          NaN  \n",
      "18          NaN          NaN          NaN          NaN          NaN  \n",
      "19          NaN          NaN          NaN          NaN          NaN  \n",
      "20          NaN          NaN          NaN          NaN          NaN  \n",
      "21          NaN          NaN          NaN          NaN          NaN  \n",
      "22          NaN          NaN          NaN          NaN          NaN  \n",
      "23          NaN          NaN          NaN          NaN          NaN  \n",
      "24          NaN          NaN          NaN          NaN          NaN  \n",
      "25          NaN          NaN          NaN          NaN          NaN  \n",
      "26          NaN          NaN          NaN          NaN          NaN  \n",
      "27          NaN          NaN          NaN          NaN          NaN  \n",
      "28          NaN          NaN          NaN          NaN          NaN  \n",
      "29          NaN          NaN          NaN          NaN          NaN  \n",
      "30          NaN          NaN          NaN          NaN          NaN  \n",
      "31          NaN          NaN          NaN          NaN          NaN  \n",
      "32          NaN          NaN          NaN          NaN          NaN  \n",
      "33          NaN          NaN          NaN          NaN          NaN  \n",
      "34          NaN          NaN          NaN          NaN          NaN  \n",
      "35          NaN          NaN          NaN          NaN          NaN  \n",
      "36          NaN          NaN          NaN          NaN          NaN  \n",
      "37          NaN          NaN          NaN          NaN          NaN  \n",
      "38          NaN          NaN          NaN          NaN          NaN  \n",
      "39          NaN          NaN          NaN          NaN          NaN  \n",
      "40          NaN          NaN          NaN          NaN          NaN  \n",
      "41          NaN          NaN          NaN          NaN          NaN  \n",
      "42          NaN          NaN          NaN          NaN          NaN  \n",
      "43          NaN          NaN          NaN          NaN          NaN  \n"
     ]
    }
   ],
   "source": [
    "import pandas as pd\n",
    "table = pd.read_csv(\"https://academy.dqlab.id/dataset/penduduk_gender_head.csv\")\n",
    "table.head()\n",
    "print(table)"
   ]
  },
  {
   "cell_type": "markdown",
   "metadata": {},
   "source": [
    "## Bar Chart"
   ]
  },
  {
   "cell_type": "code",
   "execution_count": 31,
   "metadata": {},
   "outputs": [
    {
     "data": {
      "image/png": "[encoded data removed]",
      "text/plain": [
       "<Figure size 432x288 with 1 Axes>"
      ]
     },
     "metadata": {
      "needs_background": "light"
     },
     "output_type": "display_data"
    }
   ],
   "source": [
    "#Pada Python sangat banyak library untuk visualisasi. Salah satu yang paling sering digunakan adalah matplotlib \n",
    "#karena memang sudah lama dan relatif stabil dalam perkembangannya. Maka dari itu, matplotlib dipilih untuk belajar \n",
    "#visualisasi pada sesi kali ini. Matplotlib sendiri menyediakan banyak jenis grafik mulai dari scatter/plot, \n",
    "#line, bar, dan lain-lain.Numpy sendiri pada praktek kali ini digunakan untuk melakukan manipulasi data dari csv \n",
    "#untuk memudahkan visualisasi.\n",
    "\n",
    "\n",
    "import pandas as pd\n",
    "import numpy as np\n",
    "import matplotlib.pyplot as plt\n",
    "\n",
    "table = pd.read_csv(\"https://academy.dqlab.id/dataset/penduduk_gender_head.csv\")\n",
    "table.head()\n",
    "x_label = table['NAMA KELURAHAN']\n",
    "plt.bar(x=np.arange(len(x_label)),height=table['LAKI-LAKI WNI'])\n",
    "plt.show()"
   ]
  },
  {
   "cell_type": "markdown",
   "metadata": {},
   "source": [
    "## Parameter dalam Grafik (Memberikan Nilai Axis dari data CSV)"
   ]
  },
  {
   "cell_type": "code",
   "execution_count": 32,
   "metadata": {},
   "outputs": [
    {
     "data": {
      "image/png": "[encoded data removed]",
      "text/plain": [
       "<Figure size 432x288 with 1 Axes>"
      ]
     },
     "metadata": {
      "needs_background": "light"
     },
     "output_type": "display_data"
    }
   ],
   "source": [
    "import pandas as pd\n",
    "import numpy as np\n",
    "import matplotlib.pyplot as plt\n",
    "\n",
    "table = pd.read_csv(\"https://academy.dqlab.id/dataset/penduduk_gender_head.csv\")\n",
    "table.head()\n",
    "\n",
    "x_label = table['NAMA KELURAHAN']\n",
    "plt.bar(x=np.arange(len(x_label)),height=table['LAKI-LAKI WNI'])\n",
    "plt.xticks(np.arange(len(x_label)), table['NAMA KELURAHAN'], rotation=30)\n",
    "plt.show()"
   ]
  },
  {
   "cell_type": "markdown",
   "metadata": {},
   "source": [
    "## Menambah Title dan Label pada Grafik"
   ]
  },
  {
   "cell_type": "code",
   "execution_count": 33,
   "metadata": {},
   "outputs": [
    {
     "data": {
      "image/png": "[encoded data removed]",
      "text/plain": [
       "<Figure size 432x288 with 1 Axes>"
      ]
     },
     "metadata": {
      "needs_background": "light"
     },
     "output_type": "display_data"
    }
   ],
   "source": [
    "import pandas as pd\n",
    "import numpy as np\n",
    "import matplotlib.pyplot as plt\n",
    "\n",
    "\n",
    "table = pd.read_csv(\"https://academy.dqlab.id/dataset/penduduk_gender_head.csv\")\n",
    "table.head()\n",
    "\n",
    "x_label = table['NAMA KELURAHAN']\n",
    "plt.bar(x=np.arange(len(x_label)),height=table['LAKI-LAKI WNI'])\n",
    "plt.xticks(np.arange(len(x_label)), table['NAMA KELURAHAN'], rotation=90)\n",
    "plt.xlabel('Keluarahan di Jakarta pusat')\n",
    "plt.ylabel('Jumlah Penduduk Laki - Laki')\n",
    "plt.title('Persebaran Jumlah Penduduk Laki- Laki di Jakarta Pusat')\n",
    "\n",
    "plt.show()"
   ]
  },
  {
   "cell_type": "code",
   "execution_count": null,
   "metadata": {},
   "outputs": [],
   "source": []
  }
 ],
 "metadata": {
  "kernelspec": {
   "display_name": "Python 3",
   "language": "python",
   "name": "python3"
  },
  "language_info": {
   "codemirror_mode": {
    "name": "ipython",
    "version": 3
   },
   "file_extension": ".py",
   "mimetype": "text/x-python",
   "name": "python",
   "nbconvert_exporter": "python",
   "pygments_lexer": "ipython3",
   "version": "3.7.7"
  }
 },
 "nbformat": 4,
 "nbformat_minor": 4
}
