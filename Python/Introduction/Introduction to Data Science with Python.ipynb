{
 "cells": [
  {
   "cell_type": "markdown",
   "metadata": {},
   "source": [
    "## Python \"Hello World\" & Statement"
   ]
  },
  {
   "cell_type": "code",
   "execution_count": 4,
   "metadata": {},
   "outputs": [
    {
     "name": "stdout",
     "output_type": "stream",
     "text": [
      "Hello World.\n",
      "Saya Aksara, baru belajar Pyhton.\n"
     ]
    }
   ],
   "source": [
    "print(\"Hello World.\")\n",
    "print(\"Saya Aksara, baru belajar Pyhton.\")"
   ]
  },
  {
   "cell_type": "markdown",
   "metadata": {},
   "source": [
    "## Variables di Python"
   ]
  },
  {
   "cell_type": "code",
   "execution_count": 7,
   "metadata": {},
   "outputs": [],
   "source": [
    "bil1 = 10\n",
    "Bil_2 = 20\n",
    "Frasa = \"Halo Dunia\"\n",
    "bil1, Bil_2 = 10,20\n",
    "Salam = \"Selamat Pagi\" ; Penutup = \"Salam Sejahtera\""
   ]
  },
  {
   "cell_type": "markdown",
   "metadata": {},
   "source": [
    "## Comments di Python"
   ]
  },
  {
   "cell_type": "code",
   "execution_count": 8,
   "metadata": {},
   "outputs": [
    {
     "name": "stdout",
     "output_type": "stream",
     "text": [
      "jadi # digunakan untuk membuat comment pada Python\n"
     ]
    }
   ],
   "source": [
    "#perintah pada baris ini tidak mempengaruhi program\n",
    "'''\n",
    "perintah ini tidak akan dieksekusi oleh Python\n",
    "dan perintah ini juga tidak akan dieksekusi\n",
    "perintah ini juga tudak akan dieksekusi\n",
    "'''\n",
    "print(\"jadi # digunakan untuk membuat comment pada Python\")"
   ]
  },
  {
   "cell_type": "code",
   "execution_count": null,
   "metadata": {},
   "outputs": [],
   "source": []
  }
 ],
 "metadata": {
  "kernelspec": {
   "display_name": "Python 3",
   "language": "python",
   "name": "python3"
  },
  "language_info": {
   "codemirror_mode": {
    "name": "ipython",
    "version": 3
   },
   "file_extension": ".py",
   "mimetype": "text/x-python",
   "name": "python",
   "nbconvert_exporter": "python",
   "pygments_lexer": "ipython3",
   "version": "3.7.7"
  }
 },
 "nbformat": 4,
 "nbformat_minor": 4
}
